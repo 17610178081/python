{
 "cells": [
  {
   "cell_type": "code",
   "execution_count": 1,
   "metadata": {},
   "outputs": [],
   "source": [
    "import numpy as np\n",
    "import matplotlib.pyplot as plt\n",
    "import pandas as pd\n",
    "import os\n",
    "import time\n",
    "import sys\n",
    "import sklearn\n",
    "from tensorflow import keras\n",
    "import tensorflow as tf\n",
    "%matplotlib inline"
   ]
  },
  {
   "cell_type": "code",
   "execution_count": 2,
   "metadata": {},
   "outputs": [
    {
     "name": "stdout",
     "output_type": "stream",
     "text": [
      "tf.Tensor(b'cafe', shape=(), dtype=string)\n",
      "tf.Tensor(4, shape=(), dtype=int32)\n",
      "tf.Tensor([ 99  97 102 101], shape=(4,), dtype=int32)\n"
     ]
    }
   ],
   "source": [
    "t = tf.constant(\"cafe\")\n",
    "print(t)\n",
    "print(tf.strings.length(t))\n",
    "print(tf.strings.unicode_decode(t, \"utf8\"))"
   ]
  },
  {
   "cell_type": "code",
   "execution_count": 3,
   "metadata": {},
   "outputs": [
    {
     "name": "stdout",
     "output_type": "stream",
     "text": [
      "<tf.RaggedTensor [[11, 22], [23, 1, 3], [], [33]]>\n",
      "tf.Tensor([23  1  3], shape=(3,), dtype=int32)\n",
      "<tf.RaggedTensor [[23, 1, 3]]>\n"
     ]
    }
   ],
   "source": [
    "# ragged tensor（不规则的张量）\n",
    "r = tf.ragged.constant([[11,22], [23, 1,3], [], [33]])\n",
    "print(r)\n",
    "print(r[1])\n",
    "print(r[1:2])"
   ]
  },
  {
   "cell_type": "code",
   "execution_count": 5,
   "metadata": {},
   "outputs": [
    {
     "name": "stdout",
     "output_type": "stream",
     "text": [
      "<tf.RaggedTensor [[11, 22], [23, 1, 3], [], [33], [22222]]>\n"
     ]
    }
   ],
   "source": [
    "# ops on ragger tensor\n",
    "r2 = tf.ragged.constant([[22222]])\n",
    "print(tf.concat([r, r2], axis = 0))"
   ]
  },
  {
   "cell_type": "code",
   "execution_count": 6,
   "metadata": {},
   "outputs": [
    {
     "name": "stdout",
     "output_type": "stream",
     "text": [
      "tf.Tensor(\n",
      "[[11 22  0]\n",
      " [23  1  3]\n",
      " [ 0  0  0]\n",
      " [33  0  0]], shape=(4, 3), dtype=int32)\n"
     ]
    }
   ],
   "source": [
    "print(r.to_tensor())"
   ]
  },
  {
   "cell_type": "code",
   "execution_count": 8,
   "metadata": {},
   "outputs": [
    {
     "name": "stdout",
     "output_type": "stream",
     "text": [
      "tf.Tensor(\n",
      "[[66 44]\n",
      " [22  4]\n",
      " [ 0 24]], shape=(3, 2), dtype=int32)\n"
     ]
    }
   ],
   "source": [
    "# Variable（变量）\n",
    "d1 = tf.Variable([[33,22], [11,2], [0, 12]])\n",
    "print(2*d1)"
   ]
  },
  {
   "cell_type": "code",
   "execution_count": 6,
   "metadata": {
    "scrolled": true
   },
   "outputs": [
    {
     "name": "stdout",
     "output_type": "stream",
     "text": [
      "SparseTensor(indices=tf.Tensor(\n",
      "[[0 1]\n",
      " [1 2]\n",
      " [2 3]], shape=(3, 2), dtype=int64), values=tf.Tensor([1 2 3], shape=(3,), dtype=int32), dense_shape=tf.Tensor([3 4], shape=(2,), dtype=int64))\n",
      "tf.Tensor(\n",
      "[[0 1 0 0]\n",
      " [0 0 2 0]\n",
      " [0 0 0 3]], shape=(3, 4), dtype=int32)\n"
     ]
    }
   ],
   "source": [
    "s5 = tf.SparseTensor(indices = [[0,1], [1,2], [2,3]],\n",
    "                    values = [1,2,3],\n",
    "                    dense_shape=[3,4])\n",
    "print(s5)\n",
    "s6 = tf.sparse.reorder(s5)\n",
    "print(tf.sparse.to_dense(s6))"
   ]
  },
  {
   "cell_type": "code",
   "execution_count": 6,
   "metadata": {},
   "outputs": [
    {
     "name": "stdout",
     "output_type": "stream",
     "text": [
      ".. _california_housing_dataset:\n",
      "\n",
      "California Housing dataset\n",
      "--------------------------\n",
      "\n",
      "**Data Set Characteristics:**\n",
      "\n",
      "    :Number of Instances: 20640\n",
      "\n",
      "    :Number of Attributes: 8 numeric, predictive attributes and the target\n",
      "\n",
      "    :Attribute Information:\n",
      "        - MedInc        median income in block\n",
      "        - HouseAge      median house age in block\n",
      "        - AveRooms      average number of rooms\n",
      "        - AveBedrms     average number of bedrooms\n",
      "        - Population    block population\n",
      "        - AveOccup      average house occupancy\n",
      "        - Latitude      house block latitude\n",
      "        - Longitude     house block longitude\n",
      "\n",
      "    :Missing Attribute Values: None\n",
      "\n",
      "This dataset was obtained from the StatLib repository.\n",
      "http://lib.stat.cmu.edu/datasets/\n",
      "\n",
      "The target variable is the median house value for California districts.\n",
      "\n",
      "This dataset was derived from the 1990 U.S. census, using one row per census\n",
      "block group. A block group is the smallest geographical unit for which the U.S.\n",
      "Census Bureau publishes sample data (a block group typically has a population\n",
      "of 600 to 3,000 people).\n",
      "\n",
      "It can be downloaded/loaded using the\n",
      ":func:`sklearn.datasets.fetch_california_housing` function.\n",
      "\n",
      ".. topic:: References\n",
      "\n",
      "    - Pace, R. Kelley and Ronald Barry, Sparse Spatial Autoregressions,\n",
      "      Statistics and Probability Letters, 33 (1997) 291-297\n",
      "\n",
      "(20640, 8)\n",
      "(20640,)\n"
     ]
    }
   ],
   "source": [
    "\n",
    "from sklearn.datasets import fetch_california_housing\n",
    "housing = fetch_california_housing()\n",
    "print(housing.DESCR)\n",
    "print(housing.data.shape)\n",
    "print(housing.target.shape)"
   ]
  },
  {
   "cell_type": "code",
   "execution_count": 7,
   "metadata": {},
   "outputs": [
    {
     "name": "stdout",
     "output_type": "stream",
     "text": [
      "(11610, 8) (11610,)\n",
      "(3870, 8) (3870,)\n",
      "(5160, 8) (5160,)\n"
     ]
    }
   ],
   "source": [
    "from sklearn.model_selection import train_test_split\n",
    "\n",
    "x_train_all, x_test, y_train_all, y_test = train_test_split(housing.data, housing.target, random_state = 7)\n",
    "x_train, x_valid, y_train, y_valid = train_test_split(x_train_all, y_train_all, random_state = 7)\n",
    "print(x_train.shape, y_train.shape)\n",
    "print(x_valid.shape, y_valid.shape)\n",
    "print(x_test.shape, y_test.shape)"
   ]
  },
  {
   "cell_type": "code",
   "execution_count": 8,
   "metadata": {},
   "outputs": [
    {
     "name": "stdout",
     "output_type": "stream",
     "text": [
      "x_train shape: (11610, 8) x_train_scaled shape: (11610, 8)\n"
     ]
    }
   ],
   "source": [
    "from sklearn.preprocessing import StandardScaler\n",
    "\n",
    "scaler = StandardScaler()\n",
    "x_train_scaled = scaler.fit_transform(x_train) \n",
    "x_valid_scaled = scaler.transform(x_valid)\n",
    "x_test_scaled = scaler.transform(x_test)\n",
    "\n",
    "print(\"x_train shape:\", x_train.shape, \"x_train_scaled shape:\", x_train_scaled.shape)"
   ]
  },
  {
   "cell_type": "code",
   "execution_count": 31,
   "metadata": {},
   "outputs": [],
   "source": [
    "def customized_mse(y_true, y_pred):\n",
    "    return tf.reduce_mean(tf.square(y_pred - y_true))\n",
    "\n",
    "\n",
    "model = keras.models.Sequential([\n",
    "    keras.layers.Dense(30, activation='relu', input_shape = x_train.shape[1:]),\n",
    "    keras.layers.Dense(1)\n",
    "    ])\n",
    "\n",
    "\n",
    "# \n",
    "model.compile(loss = customized_mse, optimizer = \"adam\", metrics=[\"mean_squared_error\"])\n",
    "\n",
    "\n",
    "# 回调函数试验\n",
    "logdir = \".\\callbacks\"\n",
    "if not os.path.exists(logdir):\n",
    "    os.mkdir(logdir)\n",
    "\n",
    "output_model_file = os.path.join(logdir, \"fashion_mnist_model.h5\")\n",
    "\n",
    "# 回调函数\n",
    "callbacks = [\n",
    "    keras.callbacks.TensorBoard(logdir),\n",
    "    keras.callbacks.ModelCheckpoint(output_model_file, save_best_only=True),\n",
    "    keras.callbacks.EarlyStopping(patience=5, min_delta=1e-2),\n",
    "]\n"
   ]
  },
  {
   "cell_type": "code",
   "execution_count": 32,
   "metadata": {},
   "outputs": [
    {
     "name": "stdout",
     "output_type": "stream",
     "text": [
      "Train on 11610 samples, validate on 3870 samples\n",
      "Epoch 1/15\n",
      "11610/11610 [==============================] - 1s 99us/sample - loss: 1.5032 - mean_squared_error: 1.5032 - val_loss: 0.6828 - val_mean_squared_error: 0.6828\n",
      "Epoch 2/15\n",
      "11610/11610 [==============================] - 1s 68us/sample - loss: 0.5996 - mean_squared_error: 0.5996 - val_loss: 0.5170 - val_mean_squared_error: 0.5170\n",
      "Epoch 3/15\n",
      "11610/11610 [==============================] - 1s 69us/sample - loss: 0.4710 - mean_squared_error: 0.4710 - val_loss: 0.4354 - val_mean_squared_error: 0.4354\n",
      "Epoch 4/15\n",
      "11610/11610 [==============================] - 1s 68us/sample - loss: 0.4185 - mean_squared_error: 0.4185 - val_loss: 0.4121 - val_mean_squared_error: 0.4121\n",
      "Epoch 5/15\n",
      "11610/11610 [==============================] - 1s 69us/sample - loss: 0.4014 - mean_squared_error: 0.4014 - val_loss: 0.3996 - val_mean_squared_error: 0.3996\n",
      "Epoch 6/15\n",
      "11610/11610 [==============================] - 1s 69us/sample - loss: 0.3928 - mean_squared_error: 0.3928 - val_loss: 0.3942 - val_mean_squared_error: 0.3942\n",
      "Epoch 7/15\n",
      "11610/11610 [==============================] - 1s 73us/sample - loss: 0.3866 - mean_squared_error: 0.3866 - val_loss: 0.3893 - val_mean_squared_error: 0.3893\n",
      "Epoch 8/15\n",
      "11610/11610 [==============================] - 1s 70us/sample - loss: 0.3810 - mean_squared_error: 0.3810 - val_loss: 0.3841 - val_mean_squared_error: 0.3841\n",
      "Epoch 9/15\n",
      "11610/11610 [==============================] - 1s 69us/sample - loss: 0.3734 - mean_squared_error: 0.3734 - val_loss: 0.3811 - val_mean_squared_error: 0.3811\n",
      "Epoch 10/15\n",
      "11610/11610 [==============================] - 1s 74us/sample - loss: 0.3682 - mean_squared_error: 0.3682 - val_loss: 0.3755 - val_mean_squared_error: 0.3755\n",
      "Epoch 11/15\n",
      "11610/11610 [==============================] - 1s 69us/sample - loss: 0.3680 - mean_squared_error: 0.3680 - val_loss: 0.3745 - val_mean_squared_error: 0.3745\n",
      "Epoch 12/15\n",
      "11610/11610 [==============================] - 1s 70us/sample - loss: 0.3599 - mean_squared_error: 0.3599 - val_loss: 0.3670 - val_mean_squared_error: 0.3670\n",
      "Epoch 13/15\n",
      "11610/11610 [==============================] - 1s 70us/sample - loss: 0.3564 - mean_squared_error: 0.3564 - val_loss: 0.3618 - val_mean_squared_error: 0.3618\n",
      "Epoch 14/15\n",
      "11610/11610 [==============================] - 1s 110us/sample - loss: 0.3533 - mean_squared_error: 0.3533 - val_loss: 0.3582 - val_mean_squared_error: 0.3582\n",
      "Epoch 15/15\n",
      "11610/11610 [==============================] - 1s 94us/sample - loss: 0.3485 - mean_squared_error: 0.3485 - val_loss: 0.3550 - val_mean_squared_error: 0.3550\n"
     ]
    }
   ],
   "source": [
    "history = model.fit(x_train_scaled, y_train, epochs=15, \n",
    "                    validation_data=(x_valid_scaled, y_valid),\n",
    "                   callbacks=callbacks)"
   ]
  },
  {
   "cell_type": "code",
   "execution_count": 2,
   "metadata": {},
   "outputs": [],
   "source": [
    "def plot_learning_curves(history):\n",
    "    pd.DataFrame(history.history).plot(figsize = (8, 5))\n",
    "    plt.grid(True)\n",
    "    plt.gca().set_ylim(0, 1)\n",
    "    plt.show()"
   ]
  },
  {
   "cell_type": "code",
   "execution_count": 33,
   "metadata": {},
   "outputs": [
    {
     "data": {
      "image/png": "[encoded data removed]",
      "text/plain": [
       "<Figure size 576x360 with 1 Axes>"
      ]
     },
     "metadata": {
      "needs_background": "light"
     },
     "output_type": "display_data"
    }
   ],
   "source": [
    "plot_learning_curves(history)"
   ]
  },
  {
   "cell_type": "code",
   "execution_count": 37,
   "metadata": {},
   "outputs": [
    {
     "name": "stdout",
     "output_type": "stream",
     "text": [
      "[<tf.Variable 'dense_21/kernel:0' shape=(5, 100) dtype=float32, numpy=\n",
      "array([[-0.04077737,  0.12759791, -0.0360046 , -0.17299461, -0.00453909,\n",
      "        -0.23435737, -0.1162171 ,  0.09601726, -0.17939737, -0.19475701,\n",
      "        -0.12813786, -0.0348762 ,  0.20201968,  0.04991306, -0.06547526,\n",
      "        -0.07242572, -0.07661504,  0.14616518,  0.15353604,  0.09610189,\n",
      "         0.2167864 , -0.14765652,  0.20547967,  0.21656646, -0.05769914,\n",
      "         0.01013711, -0.18946284, -0.23511857, -0.02800086, -0.21156886,\n",
      "         0.13518326, -0.21437   ,  0.11601745, -0.05467544, -0.14354908,\n",
      "         0.22663905, -0.05260204, -0.13402836, -0.05445732,  0.04234998,\n",
      "         0.17464228,  0.20005287,  0.1576757 ,  0.2377759 ,  0.20706777,\n",
      "         0.01913594,  0.09009318, -0.00030999, -0.22128086, -0.0381019 ,\n",
      "        -0.12589335,  0.21522622,  0.05416717,  0.11633269, -0.15403779,\n",
      "        -0.05978355, -0.12514858, -0.02357759, -0.04032849,  0.13483162,\n",
      "        -0.08848839, -0.23648788,  0.1000355 , -0.02684698,  0.12409495,\n",
      "         0.23694445,  0.14489727, -0.21070501,  0.1493275 , -0.00534241,\n",
      "        -0.13570613,  0.21710454,  0.12326895,  0.06501283, -0.12571657,\n",
      "         0.00126091, -0.19468972,  0.15209495,  0.15525885, -0.1482892 ,\n",
      "        -0.04426236, -0.08971475, -0.04066668, -0.11525711, -0.09408635,\n",
      "        -0.06987768, -0.11730915, -0.11889628, -0.2227123 ,  0.16093473,\n",
      "         0.13960849, -0.1699439 ,  0.15448286,  0.14623506,  0.18299271,\n",
      "         0.1072358 ,  0.13730194, -0.07305115,  0.12349437,  0.09950803],\n",
      "       [ 0.04339226,  0.11573763,  0.1101466 ,  0.1299601 ,  0.19465427,\n",
      "         0.08145328,  0.11293699, -0.13445842,  0.02887787, -0.17530625,\n",
      "        -0.13388366,  0.07789944,  0.04543598, -0.02684721,  0.08378853,\n",
      "        -0.08226515, -0.12351288,  0.1915379 , -0.06123413,  0.04687054,\n",
      "         0.17595397, -0.20551626,  0.16723685, -0.0571731 , -0.06205614,\n",
      "        -0.06246665, -0.02536191,  0.19690879, -0.1759733 ,  0.12057854,\n",
      "         0.05714954, -0.19076124, -0.10480654, -0.1552898 , -0.18027039,\n",
      "        -0.21277489,  0.01874556,  0.13354056,  0.00762263, -0.06021236,\n",
      "        -0.02060004, -0.01906084, -0.187205  ,  0.1468886 ,  0.23586147,\n",
      "        -0.21392232, -0.04246151, -0.08514221,  0.22317542, -0.03718482,\n",
      "        -0.12497578, -0.18758874, -0.0491759 , -0.18700582,  0.17935313,\n",
      "         0.12458463,  0.10846816, -0.09122011, -0.22101241, -0.23722006,\n",
      "         0.22314413, -0.14985439, -0.09692186, -0.04014885,  0.14983867,\n",
      "        -0.2092937 ,  0.01001212,  0.04761173, -0.02761097,  0.02033885,\n",
      "        -0.22743735,  0.13375314, -0.00066078,  0.16801678, -0.19525811,\n",
      "        -0.18903954, -0.11747448, -0.03742339, -0.02241658, -0.07098842,\n",
      "        -0.21923412, -0.07254928,  0.00652632, -0.0207085 , -0.08994363,\n",
      "        -0.22272015,  0.04749827, -0.06878985,  0.13180535, -0.22424974,\n",
      "         0.07274596,  0.02270229,  0.06629442, -0.01061527, -0.20967737,\n",
      "        -0.14473967,  0.18851589,  0.20450594, -0.2288294 , -0.1467024 ],\n",
      "       [ 0.21319635, -0.19105363, -0.10383277, -0.23252021, -0.06474432,\n",
      "        -0.00620972, -0.17762984,  0.18247811, -0.08121899,  0.19431846,\n",
      "         0.12333809,  0.20275529,  0.16228871, -0.21346444,  0.1808524 ,\n",
      "         0.02103843,  0.04761003,  0.20702265,  0.10321172,  0.08403067,\n",
      "         0.1351582 ,  0.21794973,  0.2075312 , -0.18486841,  0.04378067,\n",
      "         0.06496705, -0.14442137, -0.19122124, -0.09637712,  0.10156383,\n",
      "        -0.00661853,  0.15191098,  0.10415141,  0.06348877,  0.12128316,\n",
      "         0.07347472, -0.18317983,  0.07735144,  0.13264014,  0.01555707,\n",
      "         0.22865744, -0.13314007,  0.07649757,  0.19036908, -0.13067062,\n",
      "         0.17419203,  0.15486847,  0.17756526, -0.02751949, -0.13201252,\n",
      "        -0.21502799,  0.03522347,  0.10953526,  0.17336382, -0.03968669,\n",
      "        -0.08977284,  0.12903555,  0.09416448,  0.00509694, -0.17679593,\n",
      "        -0.08625619, -0.08495647,  0.12504484,  0.05424298,  0.06963323,\n",
      "        -0.19621193,  0.20276241,  0.12442084,  0.23571165,  0.0673333 ,\n",
      "         0.16343586,  0.23239152,  0.17429404, -0.05606875, -0.08013156,\n",
      "        -0.06484143,  0.05887364, -0.09049271, -0.20669214, -0.02903426,\n",
      "         0.11029617, -0.05694997,  0.11291914,  0.01038104,  0.18568923,\n",
      "         0.17736037,  0.04951622, -0.05961998,  0.00273681, -0.15516374,\n",
      "         0.1180027 ,  0.04958357, -0.2069958 , -0.12959984,  0.00985226,\n",
      "        -0.20545842,  0.09986259,  0.14499761,  0.13912825, -0.16941807],\n",
      "       [ 0.0488625 ,  0.00817962, -0.1523101 ,  0.22651036,  0.10443164,\n",
      "         0.10568716, -0.12815866,  0.02337332, -0.00505385,  0.23269062,\n",
      "        -0.15948522, -0.2194352 ,  0.19464342, -0.0043509 ,  0.10235472,\n",
      "         0.02893747, -0.08034079, -0.06408058,  0.17867066, -0.23625906,\n",
      "        -0.16818896,  0.20703284, -0.22070329,  0.21685956, -0.03159454,\n",
      "        -0.1178891 , -0.10014333,  0.1475171 , -0.12272535, -0.17140502,\n",
      "         0.21289776, -0.2164013 ,  0.05214523, -0.203054  , -0.17319089,\n",
      "        -0.14562279,  0.16642348, -0.18484156, -0.12611055,  0.11376698,\n",
      "         0.17726834,  0.14910625, -0.12633944, -0.18103722, -0.11510933,\n",
      "        -0.06903276,  0.13350432,  0.01282142,  0.07039358,  0.03020169,\n",
      "         0.01787378,  0.1640418 ,  0.21912037,  0.1664051 ,  0.00690372,\n",
      "         0.19747849,  0.16456546, -0.04683679,  0.10886718, -0.16081846,\n",
      "        -0.15788317, -0.14527467,  0.03510936, -0.01877376,  0.20991509,\n",
      "         0.18436395, -0.1484922 , -0.09339131, -0.05729108,  0.06868391,\n",
      "         0.20114143, -0.02360557, -0.11742546,  0.15934868,  0.14956708,\n",
      "         0.21048929,  0.03489797,  0.22846104,  0.02579148,  0.1614161 ,\n",
      "        -0.00987391, -0.03151914,  0.14143829,  0.0206062 ,  0.13971375,\n",
      "        -0.10752608,  0.12287639, -0.22999457, -0.21931683,  0.15979089,\n",
      "        -0.038699  , -0.23128305, -0.14514929, -0.08686443, -0.08212785,\n",
      "        -0.22253618,  0.12426911, -0.13156736,  0.0450996 , -0.14522526],\n",
      "       [-0.02292176, -0.05458088, -0.0597351 ,  0.09927286, -0.18675874,\n",
      "         0.11194845, -0.05070998, -0.09449686, -0.16221839,  0.14592512,\n",
      "        -0.126271  ,  0.13349159, -0.03923668,  0.18922882, -0.19399741,\n",
      "         0.14321972,  0.05789076, -0.20218264,  0.00071162,  0.23314543,\n",
      "        -0.18889861,  0.19681247, -0.02036728,  0.2232046 ,  0.11331718,\n",
      "        -0.10512313, -0.2115451 , -0.0112402 ,  0.23510872,  0.15955566,\n",
      "        -0.15453362,  0.16532142,  0.23052762,  0.21979426,  0.11623682,\n",
      "         0.08653353,  0.03067805, -0.00685072, -0.15463763, -0.09883521,\n",
      "         0.02559452,  0.14390154,  0.12197937, -0.01403292, -0.21671161,\n",
      "         0.18356104, -0.109653  , -0.09122832,  0.08857678,  0.01290621,\n",
      "        -0.07768981, -0.00285204, -0.08472656,  0.10717858,  0.18441658,\n",
      "         0.2313336 ,  0.06578751, -0.01210889,  0.00504079,  0.12602688,\n",
      "         0.23777656, -0.05590494, -0.23026061,  0.13366847,  0.2052709 ,\n",
      "         0.0919257 , -0.22916941,  0.23540469,  0.04873239, -0.11733434,\n",
      "        -0.17378059, -0.01422116,  0.13422982, -0.21184681,  0.10579063,\n",
      "        -0.13104865,  0.15381809, -0.17920718,  0.0422423 ,  0.20779352,\n",
      "        -0.09571719,  0.12764297,  0.17545362, -0.15704313,  0.07970862,\n",
      "         0.09226803, -0.06491211, -0.16401783, -0.23193592,  0.1299613 ,\n",
      "         0.00863494, -0.01888318,  0.17013709,  0.01111026,  0.23301001,\n",
      "        -0.20019181,  0.00273947,  0.10997199,  0.06661214,  0.18159683]],\n",
      "      dtype=float32)>, <tf.Variable 'dense_21/bias:0' shape=(100,) dtype=float32, numpy=\n",
      "array([0., 0., 0., 0., 0., 0., 0., 0., 0., 0., 0., 0., 0., 0., 0., 0., 0.,\n",
      "       0., 0., 0., 0., 0., 0., 0., 0., 0., 0., 0., 0., 0., 0., 0., 0., 0.,\n",
      "       0., 0., 0., 0., 0., 0., 0., 0., 0., 0., 0., 0., 0., 0., 0., 0., 0.,\n",
      "       0., 0., 0., 0., 0., 0., 0., 0., 0., 0., 0., 0., 0., 0., 0., 0., 0.,\n",
      "       0., 0., 0., 0., 0., 0., 0., 0., 0., 0., 0., 0., 0., 0., 0., 0., 0.,\n",
      "       0., 0., 0., 0., 0., 0., 0., 0., 0., 0., 0., 0., 0., 0., 0.],\n",
      "      dtype=float32)>]\n"
     ]
    }
   ],
   "source": [
    "layer = tf.keras.layers.Dense(100, input_shape=(None, 5))\n",
    "layer(tf.zeros([10,5]))\n",
    "print(layer.trainable_variables)"
   ]
  },
  {
   "cell_type": "markdown",
   "metadata": {},
   "source": [
    "### 3.6"
   ]
  },
  {
   "cell_type": "code",
   "execution_count": 20,
   "metadata": {},
   "outputs": [],
   "source": [
    "class CustomizedDenseLayer(keras.layers.Layer):\n",
    "    def __init__(self, units, activation = None, **kwargs):\n",
    "        self.units = units\n",
    "        self.activation = keras.layers.Activation(activation)\n",
    "        super(CustomizedDenseLayer, self).__init__(**kwargs)\n",
    "        \n",
    "    def build(self, input_shape):\n",
    "        \"\"\"构建layer所需的参数\"\"\"\n",
    "        self.kernel = self.add_weight(name = 'kernel',\n",
    "                                      shape = (input_shape[1], self.units),\n",
    "                                      initializer = 'uniform',\n",
    "                                      trainable = True)\n",
    "        self.bias = self.add_weight(name = 'bias',\n",
    "                                    shape = (self.units, ),\n",
    "                                    initializer = 'zeros',\n",
    "                                    trainable = True)\n",
    "        super(CustomizedDenseLayer, self).build(input_shape)\n",
    "        \n",
    "    def call(self, x):\n",
    "        \"\"\"正向计算\"\"\"\n",
    "        return self.activation(x @ self.kernel + self.bias)\n",
    "    \n",
    "    def get_config(self):\n",
    "        base_config = super().get_config()\n",
    "        return dict(list(base_config.items()))\n",
    "    \n",
    "\n",
    "def customized_mse(y_true, y_pred):\n",
    "    return tf.reduce_mean(tf.square(y_pred - y_true))\n",
    "\n",
    "\n",
    "model = keras.models.Sequential([\n",
    "    CustomizedDenseLayer(30, activation='relu', input_shape = x_train.shape[1:]),\n",
    "    CustomizedDenseLayer(1)\n",
    "    ])\n",
    "\n",
    "\n",
    "# \n",
    "model.compile(loss = customized_mse, optimizer = \"adam\", metrics=[\"mean_squared_error\"])\n",
    "\n",
    "\n",
    "# 回调函数试验\n",
    "logdir = \".\\callbacks\"\n",
    "if not os.path.exists(logdir):\n",
    "    os.mkdir(logdir)\n",
    "\n",
    "output_model_file = os.path.join(logdir, \"fashion_mnist_model.h5\")\n",
    "\n",
    "# 回调函数\n",
    "callbacks = [\n",
    "    keras.callbacks.TensorBoard(logdir),\n",
    "    keras.callbacks.ModelCheckpoint(output_model_file, save_best_only=True),\n",
    "    keras.callbacks.EarlyStopping(patience=5, min_delta=1e-2),\n",
    "]"
   ]
  },
  {
   "cell_type": "code",
   "execution_count": 21,
   "metadata": {},
   "outputs": [
    {
     "name": "stdout",
     "output_type": "stream",
     "text": [
      "Model: \"sequential_4\"\n",
      "_________________________________________________________________\n",
      "Layer (type)                 Output Shape              Param #   \n",
      "=================================================================\n",
      "customized_dense_layer_8 (Cu (None, 30)                270       \n",
      "_________________________________________________________________\n",
      "customized_dense_layer_9 (Cu (None, 1)                 31        \n",
      "=================================================================\n",
      "Total params: 301\n",
      "Trainable params: 301\n",
      "Non-trainable params: 0\n",
      "_________________________________________________________________\n"
     ]
    }
   ],
   "source": [
    "model.summary()"
   ]
  },
  {
   "cell_type": "code",
   "execution_count": 22,
   "metadata": {},
   "outputs": [
    {
     "name": "stdout",
     "output_type": "stream",
     "text": [
      "Train on 11610 samples, validate on 3870 samples\n",
      "Epoch 1/15\n",
      "11610/11610 [==============================] - 1s 109us/sample - loss: 2.1400 - mean_squared_error: 2.1400 - val_loss: 0.6380 - val_mean_squared_error: 0.6380\n",
      "Epoch 2/15\n",
      "11610/11610 [==============================] - 1s 76us/sample - loss: 0.5319 - mean_squared_error: 0.5319 - val_loss: 0.4637 - val_mean_squared_error: 0.4637\n",
      "Epoch 3/15\n",
      "11610/11610 [==============================] - 1s 69us/sample - loss: 0.4384 - mean_squared_error: 0.4384 - val_loss: 0.4277 - val_mean_squared_error: 0.4277\n",
      "Epoch 4/15\n",
      "11610/11610 [==============================] - 1s 70us/sample - loss: 0.4191 - mean_squared_error: 0.4191 - val_loss: 0.4157 - val_mean_squared_error: 0.4157\n",
      "Epoch 5/15\n",
      "11610/11610 [==============================] - 1s 78us/sample - loss: 0.4084 - mean_squared_error: 0.4084 - val_loss: 0.4052 - val_mean_squared_error: 0.4052\n",
      "Epoch 6/15\n",
      "11610/11610 [==============================] - 1s 77us/sample - loss: 0.4008 - mean_squared_error: 0.4008 - val_loss: 0.3979 - val_mean_squared_error: 0.3979\n",
      "Epoch 7/15\n",
      "11610/11610 [==============================] - 1s 71us/sample - loss: 0.3933 - mean_squared_error: 0.3933 - val_loss: 0.3907 - val_mean_squared_error: 0.3907\n",
      "Epoch 8/15\n",
      "11610/11610 [==============================] - 1s 95us/sample - loss: 0.3874 - mean_squared_error: 0.3874 - val_loss: 0.3856 - val_mean_squared_error: 0.3856\n",
      "Epoch 9/15\n",
      "11610/11610 [==============================] - 1s 78us/sample - loss: 0.3805 - mean_squared_error: 0.3805 - val_loss: 0.3829 - val_mean_squared_error: 0.3829\n",
      "Epoch 10/15\n",
      "11610/11610 [==============================] - 1s 70us/sample - loss: 0.3755 - mean_squared_error: 0.3755 - val_loss: 0.3754 - val_mean_squared_error: 0.3754\n",
      "Epoch 11/15\n",
      "11610/11610 [==============================] - 1s 72us/sample - loss: 0.3702 - mean_squared_error: 0.3702 - val_loss: 0.3720 - val_mean_squared_error: 0.3720\n",
      "Epoch 12/15\n",
      "11610/11610 [==============================] - 1s 75us/sample - loss: 0.3659 - mean_squared_error: 0.3659 - val_loss: 0.3666 - val_mean_squared_error: 0.3666\n",
      "Epoch 13/15\n",
      "11610/11610 [==============================] - 2s 206us/sample - loss: 0.3701 - mean_squared_error: 0.3701 - val_loss: 0.3679 - val_mean_squared_error: 0.3679\n",
      "Epoch 14/15\n",
      "11610/11610 [==============================] - 1s 72us/sample - loss: 0.3585 - mean_squared_error: 0.3585 - val_loss: 0.3597 - val_mean_squared_error: 0.3597\n",
      "Epoch 15/15\n",
      "11610/11610 [==============================] - 2s 139us/sample - loss: 0.3546 - mean_squared_error: 0.3546 - val_loss: 0.3576 - val_mean_squared_error: 0.3576\n"
     ]
    }
   ],
   "source": [
    "history = model.fit(x_train_scaled, y_train, epochs=15, \n",
    "                    validation_data=(x_valid_scaled, y_valid),\n",
    "                   callbacks=callbacks)"
   ]
  },
  {
   "cell_type": "markdown",
   "metadata": {},
   "source": [
    "#### lambda"
   ]
  },
  {
   "cell_type": "code",
   "execution_count": 24,
   "metadata": {},
   "outputs": [],
   "source": [
    "customized_softplus = keras.layers.Lambda(lambda x : tf.nn.softplus(x))"
   ]
  },
  {
   "cell_type": "markdown",
   "metadata": {},
   "source": [
    "## tf.function && Autograph"
   ]
  },
  {
   "cell_type": "code",
   "execution_count": 29,
   "metadata": {},
   "outputs": [
    {
     "name": "stdout",
     "output_type": "stream",
     "text": [
      "tf.Tensor(-0.95021296, shape=(), dtype=float32)\n"
     ]
    }
   ],
   "source": [
    "def scaled_elu(z, scale = 1.0, alpha = 1.0):\n",
    "    is_positive = tf.greater_equal(z, 0.0)\n",
    "    return scale * tf.where(is_positive, z, alpha * tf.nn.elu(z))\n",
    "\n",
    "print(scaled_elu(tf.constant(-3.)))"
   ]
  },
  {
   "cell_type": "code",
   "execution_count": 30,
   "metadata": {},
   "outputs": [],
   "source": [
    "tf_scaled_elu = tf.function(scaled_elu)"
   ]
  },
  {
   "cell_type": "code",
   "execution_count": 31,
   "metadata": {},
   "outputs": [
    {
     "data": {
      "text/plain": [
       "<tensorflow.python.eager.def_function.Function at 0x26ca720e710>"
      ]
     },
     "execution_count": 31,
     "metadata": {},
     "output_type": "execute_result"
    }
   ],
   "source": [
    "tf_scaled_elu"
   ]
  },
  {
   "cell_type": "code",
   "execution_count": 34,
   "metadata": {},
   "outputs": [
    {
     "data": {
      "text/plain": [
       "<tensorflow.python.eager.function.ConcreteFunction at 0x26d49ed5e80>"
      ]
     },
     "execution_count": 34,
     "metadata": {},
     "output_type": "execute_result"
    }
   ],
   "source": [
    "aa = tf_scaled_elu.get_concrete_function(tf.TensorSpec([2], tf.float32))\n",
    "aa"
   ]
  },
  {
   "cell_type": "code",
   "execution_count": 37,
   "metadata": {
    "scrolled": true
   },
   "outputs": [
    {
     "name": "stdout",
     "output_type": "stream",
     "text": [
      "tf.Tensor([1 2], shape=(2,), dtype=int32) tf.Tensor(b'cat', shape=(), dtype=string)\n",
      "tf.Tensor([3 4], shape=(2,), dtype=int32) tf.Tensor(b'sdk', shape=(), dtype=string)\n",
      "tf.Tensor([ 12 334], shape=(2,), dtype=int32) tf.Tensor(b'jpg', shape=(), dtype=string)\n",
      "{'feature': <tf.Tensor: id=32678, shape=(2,), dtype=int32, numpy=array([1, 2])>, 'label': <tf.Tensor: id=32679, shape=(), dtype=string, numpy=b'cat'>}\n",
      "{'feature': <tf.Tensor: id=32680, shape=(2,), dtype=int32, numpy=array([3, 4])>, 'label': <tf.Tensor: id=32681, shape=(), dtype=string, numpy=b'sdk'>}\n",
      "{'feature': <tf.Tensor: id=32682, shape=(2,), dtype=int32, numpy=array([ 12, 334])>, 'label': <tf.Tensor: id=32683, shape=(), dtype=string, numpy=b'jpg'>}\n"
     ]
    }
   ],
   "source": []
  },
  {
   "cell_type": "code",
   "execution_count": null,
   "metadata": {},
   "outputs": [],
   "source": []
  }
 ],
 "metadata": {
  "kernelspec": {
   "display_name": "Python 3",
   "language": "python",
   "name": "python3"
  },
  "language_info": {
   "codemirror_mode": {
    "name": "ipython",
    "version": 3
   },
   "file_extension": ".py",
   "mimetype": "text/x-python",
   "name": "python",
   "nbconvert_exporter": "python",
   "pygments_lexer": "ipython3",
   "version": "3.6.8"
  }
 },
 "nbformat": 4,
 "nbformat_minor": 2
}
