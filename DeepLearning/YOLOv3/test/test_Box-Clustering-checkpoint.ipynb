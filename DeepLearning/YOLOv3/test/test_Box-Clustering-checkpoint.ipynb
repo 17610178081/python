{
 "cells": [
  {
   "cell_type": "code",
   "execution_count": 1,
   "metadata": {},
   "outputs": [],
   "source": [
    "import xml.etree.ElementTree as ET\n",
    "import matplotlib.pyplot as plt\n",
    "import numpy as np\n",
    "import os, cv2\n",
    "import glob\n",
    "from lxml import etree\n",
    "%matplotlib inline"
   ]
  },
  {
   "cell_type": "code",
   "execution_count": 2,
   "metadata": {},
   "outputs": [],
   "source": [
    "def parse_annotation(ann_dir, img_dir, labels=[]):\n",
    "    '''\n",
    "    output:\n",
    "    - Each element of the train_image is a dictionary containing the annoation infomation of an image.\n",
    "    - seen_train_labels is the dictionary containing\n",
    "            (key, value) = (the object class, the number of objects found in the images)\n",
    "    '''\n",
    "    all_imgs = []\n",
    "    seen_labels = {}\n",
    "    counter = 0\n",
    "    for ann in ann_dir:\n",
    "        counter += 1\n",
    "        if \"xml\" not in ann:\n",
    "            continue\n",
    "        img = {'object':[]}\n",
    "\n",
    "        root = etree.parse(ann).getroot()\n",
    "        \n",
    "        for elem in root:\n",
    "            obj = {}\n",
    "            if 'filename' in elem.tag:\n",
    "                path_to_image = img_dir + elem.text\n",
    "                img['filename'] = path_to_image\n",
    "                ## make sure that the image exists:\n",
    "                if not os.path.exists(path_to_image):\n",
    "                    assert False, \"file does not exist!\\n{}\".format(path_to_image)\n",
    "            \n",
    "            if \"size\" in elem.tag:\n",
    "                for sub_elem in elem:\n",
    "                    if 'width' in sub_elem.tag:\n",
    "                        img['width'] = int(sub_elem.text)\n",
    "                    if 'height' in sub_elem.tag:\n",
    "                        img['height'] = int(sub_elem.text)\n",
    "\n",
    "\n",
    "            if 'object' in elem.tag or 'part' in elem.tag:\n",
    "                for sub_elem in elem:\n",
    "                    if 'name' in sub_elem.tag:\n",
    "                        obj['name'] = sub_elem.text\n",
    "\n",
    "                    if 'bndbox' in sub_elem.tag:\n",
    "                        for box_elem in sub_elem:\n",
    "                            if 'xmin' in box_elem.tag:\n",
    "                                obj['xmin'] = int(round(float(box_elem.text)))\n",
    "                            if 'ymin' in box_elem.tag:\n",
    "                                obj['ymin'] = int(round(float(box_elem.text)))\n",
    "                            if 'xmax' in box_elem.tag:\n",
    "                                obj['xmax'] = int(round(float(box_elem.text)))\n",
    "                            if 'ymax' in box_elem.tag:\n",
    "                                obj['ymax'] = int(round(float(box_elem.text)))\n",
    "                                \n",
    "            if(obj != {}):\n",
    "                img['object'].append(obj)\n",
    "\n",
    "        if len(img['object']) > 0:\n",
    "            all_imgs += [img]\n",
    "                        \n",
    "    return all_imgs\n"
   ]
  },
  {
   "cell_type": "code",
   "execution_count": 3,
   "metadata": {},
   "outputs": [],
   "source": [
    "def iou(box, clusters):\n",
    "    '''\n",
    "    :param box:      np.array of shape (2,) containing w and h\n",
    "    :param clusters: np.array of shape (N cluster, 2) \n",
    "    '''\n",
    "    x = np.minimum(clusters[:, 0], box[0]) \n",
    "    y = np.minimum(clusters[:, 1], box[1])\n",
    "\n",
    "    intersection = x * y\n",
    "    box_area = box[0] * box[1]\n",
    "    cluster_area = clusters[:, 0] * clusters[:, 1]\n",
    "\n",
    "    iou_ = intersection / (box_area + cluster_area - intersection)\n",
    "\n",
    "    return iou_\n",
    "\n",
    "\n",
    "def kmeans(boxes, k, dist=np.median,seed=1):\n",
    "    \"\"\"\n",
    "    Calculates k-means clustering with the Intersection over Union (IoU) metric.\n",
    "    :param boxes: numpy array of shape (r, 2), where r is the number of rows\n",
    "    :param k: number of clusters\n",
    "    :param dist: distance function\n",
    "    :return: numpy array of shape (k, 2)\n",
    "    \"\"\"\n",
    "    rows = boxes.shape[0]\n",
    "\n",
    "    distances     = np.empty((rows, k)) ## N row x N cluster\n",
    "    last_clusters = np.zeros((rows,))\n",
    "\n",
    "    np.random.seed(seed)\n",
    "\n",
    "    # initialize the cluster centers to be k items\n",
    "    clusters = boxes[np.random.choice(rows, k, replace=False)]\n",
    "\n",
    "    while True:\n",
    "        # Step 1: allocate each item to the closest cluster centers\n",
    "        for icluster in range(k): # I made change to lars76's code here to make the code faster\n",
    "            distances[:,icluster] = 1 - iou(clusters[icluster], boxes)\n",
    "\n",
    "        nearest_clusters = np.argmin(distances, axis=1)\n",
    "\n",
    "        if (last_clusters == nearest_clusters).all():\n",
    "            break\n",
    "            \n",
    "        # Step 2: calculate the cluster centers as mean (or median) of all the cases in the clusters.\n",
    "        for cluster in range(k):\n",
    "            clusters[cluster] = dist(boxes[nearest_clusters == cluster], axis=0)\n",
    "\n",
    "        last_clusters = nearest_clusters\n",
    "\n",
    "    return clusters,nearest_clusters,distances"
   ]
  },
  {
   "cell_type": "code",
   "execution_count": 4,
   "metadata": {},
   "outputs": [],
   "source": [
    "def bbox2boxwh(bbox_information):\n",
    "    \"\"\"\n",
    "        从 bounding box 中获得 bounding box的（width，height）\n",
    "    \"\"\"\n",
    "    wh = []\n",
    "    for anno in bbox_information:\n",
    "        try:\n",
    "            fw = float(anno[\"width\"])\n",
    "            fh = float(anno[\"height\"])\n",
    "        except Exception as e:\n",
    "            print(e ,anno)\n",
    "            continue\n",
    "\n",
    "        for obj in anno[\"object\"]:\n",
    "            w = (obj[\"xmax\"] - obj[\"xmin\"])\n",
    "            h = (obj[\"ymax\"] - obj[\"ymin\"])\n",
    "            wh.append([w,h])\n",
    "        \n",
    "    return np.array(wh)\n",
    "\n",
    "\n",
    "\n",
    "def bbox_wh2anchors(bbox_wh, k):\n",
    "    \"\"\"\n",
    "        bbox_wh：数据集中所有bounding box的宽和高\n",
    "        k：kmeans分类的数量\n",
    "    \"\"\"\n",
    "    clusters, nearest_clusters, distances = kmeans(bbox_wh, k, seed = 2,dist = np.mean)\n",
    "    return clusters\n"
   ]
  },
  {
   "cell_type": "code",
   "execution_count": 5,
   "metadata": {
    "scrolled": false
   },
   "outputs": [
    {
     "name": "stdout",
     "output_type": "stream",
     "text": [
      "number of xml file: 127\n",
      "N train = 127\n"
     ]
    }
   ],
   "source": [
    "# anno dir\n",
    "train_annot_dir = \"D:/Company/DeepLearningFloorTile/class_1/biaoqian/point_label/VOC2018/Annotations/\"\n",
    "        \n",
    "# image dir\n",
    "train_image_dir = \"D:/Company/DeepLearningFloorTile/class_1/biaoqian/point_label/VOC2018/JPEGImages/\"\n",
    "\n",
    "# label\n",
    "labels = ['edge']\n",
    "\n",
    "## Parse annotations \n",
    "train_annot_folder = glob.glob(train_annot_dir + \"*.xml\")\n",
    "print(\"number of xml file:\", len(train_annot_folder))\n",
    "\n",
    "train_image = parse_annotation(train_annot_folder,train_image_dir, labels=labels)\n",
    "print(\"N train = {}\".format(len(train_image)))\n",
    "\n",
    "\n",
    "# 解析标注数据，获得true bbox\n",
    "bbox_wh = bbox2boxwh(train_image)"
   ]
  },
  {
   "cell_type": "code",
   "execution_count": 6,
   "metadata": {},
   "outputs": [
    {
     "name": "stdout",
     "output_type": "stream",
     "text": [
      " 2 clusters: mean IoU = 0.9966\n",
      " 3 clusters: mean IoU = 0.9966\n",
      " 4 clusters: mean IoU = 0.9966\n",
      " 5 clusters: mean IoU = 0.9966\n",
      " 6 clusters: mean IoU = 0.9966\n",
      " 7 clusters: mean IoU = 0.9966\n",
      " 8 clusters: mean IoU = 0.9966\n",
      " 9 clusters: mean IoU = 0.9966\n"
     ]
    }
   ],
   "source": [
    "kmax = 10\n",
    "dist = np.mean\n",
    "results = {}\n",
    "\n",
    "for k in range(2,kmax):\n",
    "    clusters, nearest_clusters, distances = kmeans(bbox_wh,k,seed=2,dist=dist)\n",
    "    WithinClusterMeanDist = np.mean(distances[np.arange(distances.shape[0]),nearest_clusters])\n",
    "    result = {\"clusters\":             clusters,\n",
    "              \"nearest_clusters\":     nearest_clusters,\n",
    "              \"distances\":            distances,\n",
    "              \"WithinClusterMeanDist\": WithinClusterMeanDist}\n",
    "    print(\"{:2.0f} clusters: mean IoU = {:5.4f}\".format(k,1-result[\"WithinClusterMeanDist\"]))\n",
    "    results[k] = result"
   ]
  },
  {
   "cell_type": "code",
   "execution_count": 7,
   "metadata": {},
   "outputs": [],
   "source": [
    "def plot_cluster_result(plt,clusters,nearest_clusters,WithinClusterSumDist,wh,k):\n",
    "    for icluster in np.unique(nearest_clusters):\n",
    "        pick = nearest_clusters==icluster\n",
    "        c = current_palette[icluster]\n",
    "        plt.rc('font', size=8) \n",
    "        plt.plot(wh[pick,0],wh[pick,1],\"p\",\n",
    "                 color=c,\n",
    "                 alpha=0.5,label=\"cluster = {}, N = {:6.0f}\".format(icluster,np.sum(pick)))\n",
    "        plt.text(clusters[icluster,0],\n",
    "                 clusters[icluster,1],\n",
    "                 \"c{}\".format(icluster),\n",
    "                 fontsize=20,color=\"red\")\n",
    "        plt.title(\"Clusters=%d\" %k)\n",
    "        plt.xlabel(\"width\")\n",
    "        plt.ylabel(\"height\")\n",
    "    plt.legend(title=\"Mean IoU = {:5.4f}\".format(WithinClusterSumDist))  \n",
    "    \n"
   ]
  },
  {
   "cell_type": "code",
   "execution_count": 8,
   "metadata": {},
   "outputs": [
    {
     "data": {
      "image/png": "[encoded data removed]",
      "text/plain": [
       "<Figure size 1080x2520 with 5 Axes>"
      ]
     },
     "metadata": {
      "needs_background": "light"
     },
     "output_type": "display_data"
    }
   ],
   "source": [
    "import seaborn as sns\n",
    "current_palette = list(sns.xkcd_rgb.values())\n",
    "figsize = (15,35)\n",
    "count =1 \n",
    "fig = plt.figure(figsize=figsize)\n",
    "\n",
    "for k in range(2,7):\n",
    "    result               = results[k]\n",
    "    clusters             = result[\"clusters\"]\n",
    "    nearest_clusters     = result[\"nearest_clusters\"]\n",
    "    WithinClusterSumDist = result[\"WithinClusterMeanDist\"]\n",
    "\n",
    "    ax = fig.add_subplot(kmax/2,2,count)\n",
    "    plot_cluster_result(plt,clusters,nearest_clusters,1 - WithinClusterSumDist, bbox_wh,k)\n",
    "    count += 1\n",
    "plt.show()"
   ]
  },
  {
   "cell_type": "code",
   "execution_count": null,
   "metadata": {},
   "outputs": [],
   "source": []
  }
 ],
 "metadata": {
  "kernelspec": {
   "display_name": "Python 3",
   "language": "python",
   "name": "python3"
  },
  "language_info": {
   "codemirror_mode": {
    "name": "ipython",
    "version": 3
   },
   "file_extension": ".py",
   "mimetype": "text/x-python",
   "name": "python",
   "nbconvert_exporter": "python",
   "pygments_lexer": "ipython3",
   "version": "3.6.8"
  }
 },
 "nbformat": 4,
 "nbformat_minor": 2
}
